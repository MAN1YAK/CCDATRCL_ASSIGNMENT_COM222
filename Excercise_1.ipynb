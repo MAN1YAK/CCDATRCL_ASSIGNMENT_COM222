{
  "nbformat": 4,
  "nbformat_minor": 0,
  "metadata": {
    "colab": {
      "provenance": [],
      "authorship_tag": "ABX9TyOVYnbPtvdA0abUu60g5Cas",
      "include_colab_link": true
    },
    "kernelspec": {
      "name": "python3",
      "display_name": "Python 3"
    },
    "language_info": {
      "name": "python"
    }
  },
  "cells": [
    {
      "cell_type": "markdown",
      "metadata": {
        "id": "view-in-github",
        "colab_type": "text"
      },
      "source": [
        "<a href=\"https://colab.research.google.com/github/MAN1YAK/CCDATRCL_ASSIGNMENT_COM222/blob/main/Excercise_1.ipynb\" target=\"_parent\"><img src=\"https://colab.research.google.com/assets/colab-badge.svg\" alt=\"Open In Colab\"/></a>"
      ]
    },
    {
      "cell_type": "markdown",
      "source": [
        "# Exercise 1"
      ],
      "metadata": {
        "id": "m5codIfwsKmm"
      }
    },
    {
      "cell_type": "markdown",
      "source": [
        "#### 1. Create a Singly Linked list\n",
        "\n",
        "- Each node should contain your name and your seatmates in your row\n",
        "- Create at least 5 nodes\n",
        "- Traverse all nodes"
      ],
      "metadata": {
        "id": "Xnji9Ae4see-"
      }
    },
    {
      "cell_type": "code",
      "execution_count": null,
      "metadata": {
        "colab": {
          "base_uri": "https://localhost:8080/"
        },
        "id": "Mypv75Y76gEW",
        "outputId": "9174abe6-060e-485c-d192-0559765bba2a"
      },
      "outputs": [
        {
          "output_type": "stream",
          "name": "stdout",
          "text": [
            "Dianna -> Joyce -> Muñoz -> Christian -> Uriel -> "
          ]
        }
      ],
      "source": [
        "class Node:\n",
        "    def __init__(self, data):\n",
        "        self.data = data\n",
        "        self.next = None\n",
        "\n",
        "class LinkedList:\n",
        "\n",
        "    def __init__(self):\n",
        "        self.head = None\n",
        "\n",
        "    def traverse(self, node):\n",
        "        while node:\n",
        "            print(node.data, end=\" -> \")\n",
        "            node = node.next\n",
        "\n",
        "list = LinkedList()\n",
        "\n",
        "list.head = Node(\"Dianna\")\n",
        "e2 = Node(\"Joyce\")\n",
        "e3 = Node(\"Muñoz\")\n",
        "e4 = Node(\"Christian\")\n",
        "e5 = Node(\"Uriel\")\n",
        "\n",
        "list.head.next = e2\n",
        "e2.next = e3\n",
        "e3.next = e4\n",
        "e4.next = e5\n",
        "e5.next = None\n",
        "\n",
        "list.traverse(list.head)"
      ]
    },
    {
      "cell_type": "markdown",
      "source": [
        "#### 2. Create a Doubly Linked list\n",
        "\n",
        "- Each node should contain your name and your seatmates in your row\n",
        "- Create at least 5 nodes\n",
        "- Traverse all nodes"
      ],
      "metadata": {
        "id": "1C7kc1DPsc2v"
      }
    },
    {
      "cell_type": "code",
      "source": [
        "class Node:\n",
        "    def __init__(self, data):\n",
        "        self.data = data\n",
        "        self.next = None\n",
        "        self.prev = None\n",
        "\n",
        "class DoublyLinkedList:\n",
        "\n",
        "    def __init__(self):\n",
        "        self.head = None\n",
        "\n",
        "    def traverse(self, node):\n",
        "        while node:\n",
        "            print(node.data, end=\" -> \")\n",
        "            node = node.next\n",
        "\n",
        "list2 = DoublyLinkedList()\n",
        "\n",
        "list2.head = Node(\"Dianna\")\n",
        "e2 = Node(\"Joyce\")\n",
        "e3 = Node(\"Muñoz\")\n",
        "e4 = Node(\"Christian\")\n",
        "e5 = Node(\"Uriel\")\n",
        "\n",
        "list2.head.next = e2\n",
        "list2.head.prev = None\n",
        "\n",
        "e2.next = e3\n",
        "e2.prev = list2.head\n",
        "\n",
        "e3.next = e4\n",
        "e3.prev = e2\n",
        "\n",
        "e4.next = e5\n",
        "e4.prev = e3\n",
        "\n",
        "e5.next = None\n",
        "e5.prev = e4\n",
        "\n",
        "list2.traverse(list2.head)\n"
      ],
      "metadata": {
        "colab": {
          "base_uri": "https://localhost:8080/"
        },
        "id": "ROsc9MMR8ozE",
        "outputId": "4caf192d-5502-48ee-d0fd-d458d6caac43"
      },
      "execution_count": null,
      "outputs": [
        {
          "output_type": "stream",
          "name": "stdout",
          "text": [
            "Dianna -> Joyce -> Muñoz -> Christian -> Uriel -> "
          ]
        }
      ]
    },
    {
      "cell_type": "markdown",
      "metadata": {
        "id": "rtApbsCjzZOm"
      },
      "source": [
        "#### 3. Create a Circular Linked list\n",
        "\n",
        "- Each node should contain your name and your seatmates in your row\n",
        "- Create at least 5 nodes\n",
        "- Traverse all nodes"
      ]
    },
    {
      "cell_type": "code",
      "source": [
        "class Node:\n",
        "    def __init__(self, data):\n",
        "        self.data = data\n",
        "        self.next = None\n",
        "\n",
        "class CircularLinkedList:\n",
        "\n",
        "    def __init__(self):\n",
        "        self.head = None\n",
        "\n",
        "    def traverse(self, node):\n",
        "\n",
        "        head = node\n",
        "\n",
        "        while node:\n",
        "            print(node.data, end=\" -> \")\n",
        "            node = node.next\n",
        "            # Break to prevent infinite loop\n",
        "            if node == head:\n",
        "              break\n",
        "\n",
        "list3 = CircularLinkedList()\n",
        "\n",
        "list3.head = Node(\"Dianna\")\n",
        "e2 = Node(\"Joyce\")\n",
        "e3 = Node(\"Muñoz\")\n",
        "e4 = Node(\"Christianity\")\n",
        "e5 = Node(\"Uriel\")\n",
        "\n",
        "list3.head.next = e2\n",
        "e2.next = e3\n",
        "e3.next = e4\n",
        "e4.next = e5\n",
        "e5.next = list3.head\n",
        "\n",
        "\n",
        "list3.traverse(list3.head)"
      ],
      "metadata": {
        "colab": {
          "base_uri": "https://localhost:8080/"
        },
        "id": "5JYrNCRfDftA",
        "outputId": "56413146-f6d0-40c0-844c-b456a659776b"
      },
      "execution_count": 2,
      "outputs": [
        {
          "output_type": "stream",
          "name": "stdout",
          "text": [
            "Dianna -> Joyce -> Muñoz -> Christianity -> Uriel -> "
          ]
        }
      ]
    }
  ]
}