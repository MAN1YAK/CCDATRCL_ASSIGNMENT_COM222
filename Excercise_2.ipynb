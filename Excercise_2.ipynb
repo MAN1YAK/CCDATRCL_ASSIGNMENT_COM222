{
  "cells": [
    {
      "cell_type": "markdown",
      "metadata": {
        "id": "view-in-github",
        "colab_type": "text"
      },
      "source": [
        "<a href=\"https://colab.research.google.com/github/MAN1YAK/CCDATRCL_ASSIGNMENT_COM222/blob/main/Excercise_2.ipynb\" target=\"_parent\"><img src=\"https://colab.research.google.com/assets/colab-badge.svg\" alt=\"Open In Colab\"/></a>"
      ]
    },
    {
      "cell_type": "markdown",
      "metadata": {
        "id": "QNWAYtOH8JJM"
      },
      "source": [
        "# Exercise 2"
      ]
    },
    {
      "cell_type": "markdown",
      "metadata": {
        "id": "WqS_i0U78JJQ"
      },
      "source": [
        "#### Pre-defined stack functions"
      ]
    },
    {
      "cell_type": "code",
      "execution_count": null,
      "metadata": {
        "id": "Q55AdD2y8JJR"
      },
      "outputs": [],
      "source": [
        "# Creating a stack\n",
        "def create_stack():\n",
        "    stack = []\n",
        "    return stack\n",
        "\n",
        "def print_stack(stack):\n",
        "\n",
        "    if (check_empty(stack)):\n",
        "            return \"stack is empty\"\n",
        "\n",
        "    # Create a copy of the stack and reverse the elements\n",
        "    tempStack = stack.copy()\n",
        "    tempStack.reverse()\n",
        "\n",
        "    # Print all elements using a loop\n",
        "    for i in tempStack:\n",
        "        print(i)\n",
        "\n",
        "    # Delete the copy to free up memory\n",
        "    del tempStack\n",
        "\n",
        "# Creating an empty stack\n",
        "def check_empty(stack):\n",
        "    return len(stack) == 0\n",
        "\n",
        "\n",
        "# Adding items into the stack\n",
        "def push(stack, item):\n",
        "    stack.append(item)\n",
        "    print(\"pushed item: \" + item)\n",
        "\n",
        "\n",
        "# Removing an element from the stack\n",
        "def pop(stack):\n",
        "    if (check_empty(stack)):\n",
        "        return \"stack is empty\"\n",
        "\n",
        "    return stack.pop()\n",
        "\n",
        "def peek(stack):\n",
        "\n",
        "    # Use negative indexing to display the last element of the list\n",
        "    print(stack[-1])"
      ]
    },
    {
      "cell_type": "markdown",
      "metadata": {
        "id": "z5FA3bY38JJT"
      },
      "source": [
        "#### 1. Create a burger stack.  \n",
        "\n",
        "The output of the stack should be in this order:\n",
        "\n",
        "- Bun\n",
        "\n",
        "- Tomato\n",
        "\n",
        "- Lettuce\n",
        "\n",
        "- Cheese\n",
        "\n",
        "- Patty\n",
        "\n",
        "- Bun"
      ]
    },
    {
      "cell_type": "code",
      "execution_count": null,
      "metadata": {
        "id": "n6yPehQq8JJU",
        "colab": {
          "base_uri": "https://localhost:8080/"
        },
        "outputId": "9db2c48f-ab35-4b7a-8674-342ccd874da8"
      },
      "outputs": [
        {
          "output_type": "stream",
          "name": "stdout",
          "text": [
            "pushed item: Bun\n",
            "pushed item: Tomato\n",
            "pushed item: Letuce\n",
            "pushed item: Cheese\n",
            "pushed item: Bun\n",
            "Bun\n",
            "Cheese\n",
            "Letuce\n",
            "Tomato\n",
            "Bun\n"
          ]
        }
      ],
      "source": [
        "# Put your answer here\n",
        "def create_stack():\n",
        "    stack = []\n",
        "    return stack\n",
        "\n",
        "def print_stack(stack):\n",
        "\n",
        "    if (check_empty(stack)):\n",
        "            return \"stack is empty\"\n",
        "\n",
        "    tempStack = stack.copy()\n",
        "    tempStack.reverse()\n",
        "\n",
        "    for i in tempStack:\n",
        "        print(i)\n",
        "\n",
        "    del tempStack\n",
        "\n",
        "def push(stack, item):\n",
        "    stack.append(item)\n",
        "    print(\"pushed item: \" + item)\n",
        "\n",
        "burger_stack = create_stack()\n",
        "\n",
        "push(burger_stack, \"Bun\")\n",
        "push(burger_stack, \"Tomato\")\n",
        "push(burger_stack, \"Letuce\")\n",
        "push(burger_stack, \"Cheese\")\n",
        "push(burger_stack, \"Bun\")\n",
        "\n",
        "print_stack(burger_stack)"
      ]
    },
    {
      "cell_type": "markdown",
      "metadata": {
        "id": "W4XvryDA8JJU"
      },
      "source": [
        "#### 2. Reverse a string using a stack\n",
        "\n",
        "Given two stacks:\n",
        "\n",
        "**name_stack = ['E', 'L', 'I', 'Z', 'E', 'R', 'P', 'O', 'N', 'I', 'O', 'J', 'R']**\n",
        "\n",
        "**reversed_stack = []**\n",
        "\n",
        "Use your full name and pop each letter from the **name_stack** and push each element into the **reversed_stack**\n",
        "\n",
        "-----------------\n",
        "**Expected output:**\n",
        "\n",
        "print(reversed_stack)\n",
        "\n",
        "['R', 'J', 'O', 'I', 'N', 'O', 'P', 'R', 'E', 'Z', 'I', 'L', 'E']"
      ]
    },
    {
      "cell_type": "code",
      "execution_count": null,
      "metadata": {
        "id": "BuPMzC-g8JJV",
        "colab": {
          "base_uri": "https://localhost:8080/"
        },
        "outputId": "bf7a7905-23f3-458c-cb50-3e87f791010f"
      },
      "outputs": [
        {
          "output_type": "stream",
          "name": "stdout",
          "text": [
            "pushed item: O\n",
            "pushed item: L\n",
            "pushed item: E\n",
            "pushed item: G\n",
            "pushed item: N\n",
            "pushed item: A\n",
            "['O', 'L', 'E', 'G', 'N', 'A']\n"
          ]
        }
      ],
      "source": [
        "# put your answer here\n",
        "def create_stack():\n",
        "    stack = []\n",
        "    return stack\n",
        "\n",
        "def print_stack(stack):\n",
        "\n",
        "    if (check_empty(stack)):\n",
        "            return \"stack is empty\"\n",
        "\n",
        "    tempStack = stack.copy()\n",
        "    tempStack.reverse()\n",
        "\n",
        "    for i in tempStack:\n",
        "        print(i)\n",
        "\n",
        "    del tempStack\n",
        "\n",
        "def push(stack, item):\n",
        "    stack.append(item)\n",
        "    print(\"pushed item: \" + item)\n",
        "\n",
        "def pop(stack):\n",
        "    if (check_empty(stack)):\n",
        "        return \"stack is empty\"\n",
        "\n",
        "    return stack.pop()\n",
        "\n",
        "name_stack = create_stack()\n",
        "name_stack = ['A','N','G','E','L','O']\n",
        "\n",
        "reverse_stack = create_stack()\n",
        "\n",
        "push(reverse_stack, name_stack.pop())\n",
        "push(reverse_stack, name_stack.pop())\n",
        "push(reverse_stack, name_stack.pop())\n",
        "push(reverse_stack, name_stack.pop())\n",
        "push(reverse_stack, name_stack.pop())\n",
        "push(reverse_stack, name_stack.pop())\n",
        "\n",
        "print(reverse_stack)\n"
      ]
    },
    {
      "cell_type": "markdown",
      "metadata": {
        "id": "coRKfCPZ8JJV"
      },
      "source": [
        "#### 3. Remove elements using a stack\n",
        "\n",
        "Given this stack:\n",
        "\n",
        "numbers = [1,2,3,4,5,6,7,8,9,10]\n",
        "\n",
        "new_stack = []\n",
        "\n",
        "Using the **pop()** function, push elements in the **new_stack** if they are an **even number**\n",
        "\n",
        "-----------------\n",
        "\n",
        "**Expected output:**\n",
        "\n",
        "print(numbers)\n",
        "\n",
        "[2,4,6,8,10]"
      ]
    },
    {
      "cell_type": "code",
      "execution_count": null,
      "metadata": {
        "id": "zTXYampp8JJV",
        "colab": {
          "base_uri": "https://localhost:8080/"
        },
        "outputId": "43e4dd9a-c558-45e6-dc1c-f29d3d55898b"
      },
      "outputs": [
        {
          "output_type": "stream",
          "name": "stdout",
          "text": [
            "pushed item:  2\n",
            "pushed item:  4\n",
            "pushed item:  6\n",
            "pushed item:  8\n",
            "pushed item:  10\n",
            "pushed item:  12\n",
            "[2, 4, 6, 8, 10, 12]\n"
          ]
        }
      ],
      "source": [
        "from inspect import stack\n",
        "# put your answer here\n",
        "\n",
        "def create_stack():\n",
        "    stack = []\n",
        "    return stack\n",
        "\n",
        "def print_stack(stack):\n",
        "\n",
        "    if (check_empty(stack)):\n",
        "            return \"stack is empty\"\n",
        "\n",
        "    tempStack = stack.copy()\n",
        "    tempStack.reverse()\n",
        "\n",
        "    for i in tempStack:\n",
        "        print(i)\n",
        "\n",
        "    del tempStack\n",
        "\n",
        "def push(stack, item):\n",
        "    stack.append(item)\n",
        "    print(\"pushed item: \" , item)\n",
        "\n",
        "def pop(stack, stack2):\n",
        "\n",
        "  while (len(stack)!=0):\n",
        "    val = stack.pop()\n",
        "    if val % 2 == 0:\n",
        "      stack2.append(val)\n",
        "\n",
        "  while (len(stack2)!= 0):\n",
        "    push(stack, stack2.pop())\n",
        "\n",
        "  if (check_empty(stack)):\n",
        "        return \"stack is empty\"\n",
        "\n",
        "numbers = create_stack()\n",
        "new_stack = create_stack()\n",
        "\n",
        "numbers = [1,2,3,4,5,6,7,8,9,10]\n",
        "\n",
        "pop(numbers, new_stack)\n",
        "\n",
        "print(numbers)\n",
        "\n",
        "\n",
        "\n"
      ]
    },
    {
      "cell_type": "markdown",
      "metadata": {
        "id": "1s4LGmuT8JJW"
      },
      "source": [
        "#### 4. Inserting elements into a stack\n",
        "\n",
        "Given two stacks:\n",
        "\n",
        "my_stack = ['E', 'L', 'I', 'Z', 'E', 'R', 'P', 'O', 'N', 'I', 'O', 'J', 'R']\n",
        "\n",
        "empty_stack = []\n",
        "\n",
        "Use **pop()** to get each element from  **my_stack** and use **push()** to insert the element to **empty_stack** only if:\n",
        "\n",
        "1. The element is a **vowel**\n",
        "2. The element does not exist in **empty_stack**\n",
        "\n",
        "----------------------\n",
        "\n",
        "**Expected output:**\n",
        "\n",
        "print_stack(empty_stack)\n",
        "\n",
        "['E', 'I', 'O']"
      ]
    },
    {
      "cell_type": "code",
      "execution_count": null,
      "metadata": {
        "id": "cGXh7yd18JJW",
        "colab": {
          "base_uri": "https://localhost:8080/"
        },
        "outputId": "6a427208-d452-462e-868e-9869e7200296"
      },
      "outputs": [
        {
          "output_type": "stream",
          "name": "stdout",
          "text": [
            "pushed item:  O\n",
            "['O']\n",
            "pushed item:  I\n",
            "['O', 'I']\n",
            "pushed item:  E\n",
            "['O', 'I', 'E']\n",
            "E\n",
            "I\n",
            "O\n"
          ]
        }
      ],
      "source": [
        "# put your answer here\n",
        "\n",
        "def create_stack():\n",
        "    stack = []\n",
        "    return stack\n",
        "\n",
        "def print_stack(stack):\n",
        "\n",
        "   if (check_empty(stack)):\n",
        "            return \"stack is empty\"\n",
        "\n",
        "    # Create a copy of the stack and reverse the elements\n",
        "   tempStack = stack.copy()\n",
        "   tempStack.reverse()\n",
        "\n",
        "    # Print all elements using a loop\n",
        "   for i in tempStack:\n",
        "        print(i)\n",
        "\n",
        "    # Delete the copy to free up memory\n",
        "\n",
        "def push(stack, item):\n",
        "    stack.append(item)\n",
        "    print(\"pushed item: \" , item)\n",
        "\n",
        "def check_empty(stack):\n",
        "    return len(stack) == 0\n",
        "\n",
        "my_stack = create_stack()\n",
        "empty_stack = create_stack()\n",
        "\n",
        "my_stack = ['E', 'L', 'I', 'Z', 'E', 'R', 'P', 'O', 'N', 'I', 'O', 'J', 'R']\n",
        "\n",
        "while (len(my_stack)!= 0):\n",
        "  char = my_stack.pop()\n",
        "  vowels = 'A','E','I','O','U'\n",
        "\n",
        "  if char in vowels:\n",
        "   if char not in empty_stack:\n",
        "    push(empty_stack, char)\n",
        "    print(empty_stack)\n",
        "\n",
        "print_stack(empty_stack)"
      ]
    },
    {
      "cell_type": "markdown",
      "metadata": {
        "id": "cwtpya5m8JJX"
      },
      "source": [
        "#### 5. Sort elements in a stack\n",
        "\n",
        "Given two stacks:\n",
        "\n",
        "number_stack = [3,1,2]\n",
        "\n",
        "sorted_stack = []\n",
        "\n",
        "Create a **sort()** function to pop each element from the **number_stack** and push each element into the **sorted_stack**. The elements in **sorted_stack** must be in ascending order.\n",
        "\n",
        "----------------\n",
        "\n",
        "**Hint:**\n",
        "\n",
        "| iteration | number_stack | sorted_stack |\n",
        "| --- | --- | --- |\n",
        "| 1 | [3, 1, 2] | [] |\n",
        "| 2 | [3, 1] | [2] |\n",
        "| 3 | [3, 2] | [1] |\n",
        "| 4 | [3] | [1, 2] |\n",
        "| 5 | [] | [1, 2, 3] |\n",
        "\n",
        "**Expected output:**\n",
        "\n",
        "print(sorted_stack)\n",
        "\n",
        "[1, 2, 3]"
      ]
    },
    {
      "cell_type": "code",
      "execution_count": 102,
      "metadata": {
        "id": "XrLee2zo8JJX",
        "colab": {
          "base_uri": "https://localhost:8080/"
        },
        "outputId": "c17b19bd-76c8-42b6-abf6-2870bca0a8aa"
      },
      "outputs": [
        {
          "output_type": "stream",
          "name": "stdout",
          "text": [
            "pushed item:  2\n",
            "[3, 1] [2]\n",
            "pushed item:  2\n",
            "pushed item:  1\n",
            "[3, 2] [1]\n",
            "pushed item:  2\n",
            "[3] [1, 2]\n",
            "pushed item:  3\n",
            "[1, 2, 3]\n"
          ]
        }
      ],
      "source": [
        "# put your answer here\n",
        "def create_stack():\n",
        "    stack = []\n",
        "    return stack\n",
        "\n",
        "def print_stack(stack):\n",
        "\n",
        "   if (check_empty(stack)):\n",
        "            return \"stack is empty\"\n",
        "\n",
        "    # Create a copy of the stack and reverse the elements\n",
        "   tempStack = stack.copy()\n",
        "   tempStack.reverse()\n",
        "\n",
        "    # Print all elements using a loop\n",
        "   for i in tempStack:\n",
        "        print(i)\n",
        "\n",
        "    # Delete the copy to free up memory\n",
        "\n",
        "def push(stack, item):\n",
        "    stack.append(item)\n",
        "    print(\"pushed item: \" , item)\n",
        "\n",
        "def peek(stack):\n",
        "    # Use negative indexing to display the last element of the list\n",
        "    print(stack[-1])\n",
        "\n",
        "def sort(stack, stack2):\n",
        "\n",
        "  push(stack2, stack.pop())\n",
        "\n",
        "  while(len(stack)!= 0):\n",
        "    print(stack , stack2)\n",
        "\n",
        "    if(stack[-1] < stack2[-1]):\n",
        "\n",
        "     temp = stack.pop()\n",
        "     push(stack, stack2.pop())\n",
        "     push(stack2, temp)\n",
        "\n",
        "    else:\n",
        "     push(stack2, stack.pop())\n",
        "\n",
        "\n",
        "def check_empty(stack):\n",
        "  return len(stack) == 0\n",
        "\n",
        "number_stack = create_stack()\n",
        "sort_stack = create_stack()\n",
        "\n",
        "number_stack = [3,1,2]\n",
        "\n",
        "sort(number_stack, sort_stack)\n",
        "\n",
        "print(sort_stack)"
      ]
    }
  ],
  "metadata": {
    "kernelspec": {
      "display_name": "Python 3",
      "language": "python",
      "name": "python3"
    },
    "language_info": {
      "codemirror_mode": {
        "name": "ipython",
        "version": 3
      },
      "file_extension": ".py",
      "mimetype": "text/x-python",
      "name": "python",
      "nbconvert_exporter": "python",
      "pygments_lexer": "ipython3",
      "version": "3.11.4"
    },
    "orig_nbformat": 4,
    "colab": {
      "provenance": [],
      "include_colab_link": true
    }
  },
  "nbformat": 4,
  "nbformat_minor": 0
}