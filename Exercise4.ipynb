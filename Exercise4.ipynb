{
  "cells": [
    {
      "cell_type": "markdown",
      "metadata": {
        "id": "view-in-github",
        "colab_type": "text"
      },
      "source": [
        "<a href=\"https://colab.research.google.com/github/MAN1YAK/CCDATRCL_ASSIGNMENT_COM222/blob/main/Exercise4.ipynb\" target=\"_parent\"><img src=\"https://colab.research.google.com/assets/colab-badge.svg\" alt=\"Open In Colab\"/></a>"
      ]
    },
    {
      "cell_type": "markdown",
      "metadata": {
        "id": "fCO3VeNzvGDc"
      },
      "source": [
        "# Exercise 4"
      ]
    },
    {
      "cell_type": "markdown",
      "metadata": {
        "id": "UCFGr2qPKONg"
      },
      "source": [
        "#### Pre-defined sorting algorithms"
      ]
    },
    {
      "cell_type": "code",
      "execution_count": 520,
      "metadata": {
        "id": "dXWXOLWtKONg"
      },
      "outputs": [],
      "source": [
        "# -1 to subtract initial array before being divided\n",
        "merge_steps = -1\n",
        "\n",
        "def mergeSort(array):\n",
        "    if len(array) > 1:\n",
        "        #  r is the point where the array is divided into two subarrays\n",
        "        r = len(array)//2\n",
        "        L = array[:r]\n",
        "        M = array[r:]\n",
        "\n",
        "        #counts the time the array is divided\n",
        "        global merge_steps\n",
        "        merge_steps += 1\n",
        "\n",
        "        # Sort the two halves\n",
        "        mergeSort(L)\n",
        "        mergeSort(M)\n",
        "\n",
        "        i = j = k = 0\n",
        "        # Until we reach either end of either L or M, pick larger among\n",
        "        # elements L and M and place them in the correct position at A[p..r]\n",
        "        while i < len(L) and j < len(M):\n",
        "            #counts the number of times where the value between two integers is checked\n",
        "            merge_steps += 1\n",
        "\n",
        "            if L[i] < M[j]:\n",
        "                array[k] = L[i]\n",
        "                i += 1\n",
        "\n",
        "            else:\n",
        "                #conts the time a value is sorted\n",
        "                merge_steps += 1\n",
        "\n",
        "                array[k] = M[j]\n",
        "                j += 1\n",
        "            k += 1\n",
        "\n",
        "        # When we run out of elements in either L or M,\n",
        "        # pick up the remaining elements and put in A[p..r]\n",
        "\n",
        "        while i < len(L):\n",
        "\n",
        "            array[k] = L[i]\n",
        "            i += 1\n",
        "            k += 1\n",
        "\n",
        "        while j < len(M):\n",
        "\n",
        "            array[k] = M[j]\n",
        "            j += 1\n",
        "            k += 1\n",
        "\n",
        "# Print the array\n",
        "def printList(array):\n",
        "    for i in range(len(array)):\n",
        "        print(array[i], end=\" \")\n",
        "    print()"
      ]
    },
    {
      "cell_type": "code",
      "execution_count": 521,
      "metadata": {
        "id": "OB-JMVxvKONi"
      },
      "outputs": [],
      "source": [
        "def countingSort(array):\n",
        "    step = 0\n",
        "    size = len(array)\n",
        "    output = [0] * size\n",
        "\n",
        "    # Initialize count array\n",
        "    count = [0] * 10\n",
        "\n",
        "    # Store the count of each elements in count array\n",
        "    for i in range(0, size):\n",
        "        step +=1\n",
        "        count[array[i]] += 1\n",
        "\n",
        "    # Store the cummulative count\n",
        "    for i in range(1, 10):\n",
        "        count[i] += count[i - 1]\n",
        "    #step for adding the cummulative count\n",
        "    step +=1\n",
        "\n",
        "    # Find the index of each element of the original array in count array\n",
        "    # place the elements in output array\n",
        "    i = size - 1\n",
        "    while i >= 0:\n",
        "        step +=1\n",
        "        output[count[array[i]] - 1] = array[i]\n",
        "        count[array[i]] -= 1\n",
        "        i -= 1\n",
        "\n",
        "    # Copy the sorted elements into original array\n",
        "    for i in range(0, size):\n",
        "        step +=1\n",
        "        array[i] = output[i]\n",
        "    return step"
      ]
    },
    {
      "cell_type": "code",
      "execution_count": 522,
      "metadata": {
        "id": "VXaukk4_KONj"
      },
      "outputs": [],
      "source": [
        "def insertionSort(array):\n",
        "    i = 0\n",
        "    for step in range(1, len(array)):\n",
        "\n",
        "        key = array[step]\n",
        "        j = step - 1\n",
        "\n",
        "        #count the number of times key is compared to the array of [j]\n",
        "        i+=1\n",
        "\n",
        "        #count the number of times array of [j] is put behind the current key\n",
        "        if key < array[j]:\n",
        "          i+=1\n",
        "        #count the number of times key is changed\n",
        "        elif key > array[j]:\n",
        "          i+=1\n",
        "\n",
        "        # Compare key with each element on the left of it until an element smaller than it is found\n",
        "        # For descending order, change key<array[j] to key>array[j].\n",
        "        while j >= 0 and key < array[j]:\n",
        "            array[j + 1] = array[j]\n",
        "            j = j - 1\n",
        "        # Place key at after the element just smaller than it.\n",
        "        array[j + 1] = key\n",
        "\n",
        "    return i"
      ]
    },
    {
      "cell_type": "code",
      "execution_count": 523,
      "metadata": {
        "id": "b4yWHH1nKONj"
      },
      "outputs": [],
      "source": [
        "# Bubble sort in Python\n",
        "def bubbleSort(array):\n",
        "   swap = 0\n",
        "  # loop to access each array element\n",
        "   for i in range(len(array)):\n",
        "\n",
        "    # loop to compare array elements\n",
        "    for j in range(0, len(array) - i - 1):\n",
        "\n",
        "      # compare two adjacent elements\n",
        "      # change > to < to sort in descending order\n",
        "      if array[j] > array[j + 1]:\n",
        "        # swapping elements if elements\n",
        "        # are not in the intended\n",
        "        swap += 1\n",
        "        temp = array[j]\n",
        "        array[j] = array[j+1]\n",
        "        array[j+1] = temp\n",
        "\n",
        "   return swap\n",
        "\n"
      ]
    },
    {
      "cell_type": "markdown",
      "metadata": {
        "id": "6j9PZVsyvGDe"
      },
      "source": [
        "[link text](https://)#### 1. Sort your **student number** in **ascending order**\n",
        "\n",
        "Example:\n",
        "\n",
        "**Input: 2022123456**\n",
        "\n",
        "**Output: 0122223456**"
      ]
    },
    {
      "cell_type": "code",
      "execution_count": 524,
      "metadata": {
        "id": "UuNMRCm3vGDe",
        "colab": {
          "base_uri": "https://localhost:8080/"
        },
        "outputId": "c5ed95f5-3a03-4106-f6f3-ac2af58a5f7f"
      },
      "outputs": [
        {
          "output_type": "stream",
          "name": "stdout",
          "text": [
            "2022106340\n",
            "0001222346\n"
          ]
        }
      ],
      "source": [
        "# put your answer here\n",
        "\n",
        "sc = int(input())\n",
        "\n",
        "list_1 = [int(x) for x in str(sc)]\n",
        "bubbleSort(list_1)\n",
        "sorted_studentno = ''.join([str(x) for x in list_1])\n",
        "\n",
        "print(sorted_studentno)"
      ]
    },
    {
      "cell_type": "markdown",
      "metadata": {
        "id": "felukBjnvGDf"
      },
      "source": [
        "#### 2. Sort the **dates** in **ascending order**.\n",
        "\n",
        "dates = [\"12-25-2023\", birthday, \"01-01-2023\"]\n",
        "\n",
        "Enter your birthday in the birthday variable."
      ]
    },
    {
      "cell_type": "code",
      "source": [
        "# Your birthday should be in mm-dd-yyyy\n",
        "birthday = \"07-11-2004\"\n",
        "\n",
        "dates = [\"12-25-2023\", birthday, \"01-01-2023\",\"02-10-2022\",\"03-11-2022\",\"04-11-2021\"]\n",
        "output = [i.split('-') for i in dates]\n",
        "convert = [list( map(int,x) ) for x in output]\n",
        "\n",
        "count2 = -1\n",
        "\n",
        "#bubble sort\n",
        "for i in range(len(convert)):\n",
        "\n",
        "    for j in range(0, len(convert) - i - 1):\n",
        "\n",
        "      if convert[j][count2] > convert[j + 1][count2]:\n",
        "\n",
        "        temp = convert[j]\n",
        "        convert[j] = convert[j+1]\n",
        "        convert[j+1] = temp\n",
        "\n",
        "      # checks the month/index:0 if the years is equal\n",
        "      elif(convert[j][count2] == convert[j+1][count2]):\n",
        "       count2 += 1\n",
        "\n",
        "       if convert[j][count2] > convert[j + 1][count2]:\n",
        "\n",
        "           temp = convert[j]\n",
        "           convert[j] = convert[j+1]\n",
        "           convert[j+1] = temp\n",
        "\n",
        "       #resets the index to year\n",
        "       count2 -= 1\n",
        "\n",
        "sorted_dates = []\n",
        "for sublist in convert:\n",
        "    day, month, year = sublist\n",
        "    formatted_date = f\"{day:02d}-{month:02d}-{year}\"\n",
        "    sorted_dates.append(formatted_date)\n",
        "\n",
        "print(sorted_dates)\n"
      ],
      "metadata": {
        "colab": {
          "base_uri": "https://localhost:8080/"
        },
        "id": "qLyuAYPpg7eK",
        "outputId": "c7808917-2754-4f90-a2a4-f9b87cbcbc78"
      },
      "execution_count": 525,
      "outputs": [
        {
          "output_type": "stream",
          "name": "stdout",
          "text": [
            "['07-11-2004', '04-11-2021', '02-10-2022', '03-11-2022', '01-01-2023', '12-25-2023']\n"
          ]
        }
      ]
    },
    {
      "cell_type": "code",
      "execution_count": 526,
      "metadata": {
        "id": "b1ppwLcevGDg",
        "outputId": "fb233144-7dab-4852-fd22-0658963dbccb",
        "colab": {
          "base_uri": "https://localhost:8080/"
        }
      },
      "outputs": [
        {
          "output_type": "stream",
          "name": "stdout",
          "text": [
            "[1, 2, 3, 4, 5]\n",
            "5\n"
          ]
        }
      ],
      "source": [
        "# put your answer here\n",
        "list_3 = [3,2,5,1,4]\n",
        "totalswaps = bubbleSort(list_3)\n",
        "print(list_3)\n",
        "print(totalswaps)"
      ]
    },
    {
      "cell_type": "markdown",
      "metadata": {
        "id": "iO2UusQWvGDi"
      },
      "source": [
        "#### 4. Count the **total number of steps** to sort the list below using **Insertion Sort**\n",
        "\n",
        "\n",
        "|6|2|5|7|4|1|8|9|3|\n",
        "|---|---|---|---|---|---|---|---|---|"
      ]
    },
    {
      "cell_type": "code",
      "execution_count": 527,
      "metadata": {
        "id": "vq1PYEjmvGDi",
        "outputId": "90a8834e-8f61-46e7-ace9-4e8436faf7d0",
        "colab": {
          "base_uri": "https://localhost:8080/"
        }
      },
      "outputs": [
        {
          "output_type": "stream",
          "name": "stdout",
          "text": [
            "[1, 2, 3, 4, 5, 6, 7, 8, 9]\n",
            "16\n"
          ]
        }
      ],
      "source": [
        "# put your answer here\n",
        "list_4 = [6,2,5,7,4,1,8,9,3]\n",
        "numberofsteps = insertionSort(list_4)\n",
        "print(list_4)\n",
        "print(numberofsteps)"
      ]
    },
    {
      "cell_type": "markdown",
      "metadata": {
        "id": "jpfNCCdbvGDj"
      },
      "source": [
        "#### 5. Given the list below:\n",
        "\n",
        "\n",
        "|7|5|4|3|2|5|1|8|\n",
        "|---|---|---|---|---|---|---|---|\n",
        "\n",
        "Using **merge sort** and **counting sort**\n",
        "\n",
        "Determine which sorting algorithm is faster by counting the total number of steps for each algorithm\n"
      ]
    },
    {
      "cell_type": "code",
      "execution_count": 528,
      "metadata": {
        "id": "2YVK17cSvGDj",
        "outputId": "1817ba62-1edf-4c52-adbd-7cca5c4b4e8d",
        "colab": {
          "base_uri": "https://localhost:8080/"
        }
      },
      "outputs": [
        {
          "output_type": "stream",
          "name": "stdout",
          "text": [
            "Merge Sort:  48\n",
            "Counting Sort:  31\n",
            "Merge sort is faster\n"
          ]
        }
      ],
      "source": [
        "# put your answer here\n",
        "\n",
        "list_5 = [7,5,4,3,2,5,1,8,4,5]\n",
        "list_5_2 = [7,5,4,3,2,5,1,8,4,5]\n",
        "\n",
        "mergeSort(list_5)\n",
        "\n",
        "merge_sort_num_steps = merge_steps\n",
        "counting_sort_num_steps = countingSort(list_5_2)\n",
        "\n",
        "print(\"Merge Sort: \" ,merge_sort_num_steps)\n",
        "print(\"Counting Sort: \" ,counting_sort_num_steps)\n",
        "\n",
        "\n",
        "if merge_sort_num_steps > counting_sort_num_steps:\n",
        "    print(\"Merge sort is faster\")\n",
        "else:\n",
        "    print(\"counting sort is faster\")"
      ]
    }
  ],
  "metadata": {
    "colab": {
      "provenance": [],
      "include_colab_link": true
    },
    "kernelspec": {
      "display_name": "Python 3",
      "language": "python",
      "name": "python3"
    },
    "language_info": {
      "codemirror_mode": {
        "name": "ipython",
        "version": 3
      },
      "file_extension": ".py",
      "mimetype": "text/x-python",
      "name": "python",
      "nbconvert_exporter": "python",
      "pygments_lexer": "ipython3",
      "version": "3.11.4"
    },
    "orig_nbformat": 4
  },
  "nbformat": 4,
  "nbformat_minor": 0
}