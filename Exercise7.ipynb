{
  "cells": [
    {
      "cell_type": "markdown",
      "metadata": {
        "id": "view-in-github",
        "colab_type": "text"
      },
      "source": [
        "<a href=\"https://colab.research.google.com/github/MAN1YAK/CCDATRCL_ASSIGNMENT_COM222/blob/main/Exercise7.ipynb\" target=\"_parent\"><img src=\"https://colab.research.google.com/assets/colab-badge.svg\" alt=\"Open In Colab\"/></a>"
      ]
    },
    {
      "cell_type": "markdown",
      "metadata": {
        "id": "e3Ja3uozAJlw"
      },
      "source": [
        "# Exercise 7"
      ]
    },
    {
      "cell_type": "code",
      "execution_count": null,
      "metadata": {
        "id": "IW6uTwU8AJly"
      },
      "outputs": [],
      "source": [
        "class Node:\n",
        "    def __init__(self, item):\n",
        "        self.left = None\n",
        "        self.right = None\n",
        "        self.val = item"
      ]
    },
    {
      "cell_type": "code",
      "execution_count": null,
      "metadata": {
        "id": "uxVFuimIAJlz"
      },
      "outputs": [],
      "source": [
        "def evaluateExpressionTree(root):\n",
        "\n",
        "    # empty tree\n",
        "    if root is None:\n",
        "        return 0\n",
        "\n",
        "    # leaf node\n",
        "    if root.left is None and root.right is None:\n",
        "        return int(root.val)\n",
        "\n",
        "    # evaluate left tree\n",
        "    left_sum = evaluateExpressionTree(root.left)\n",
        "\n",
        "    # evaluate right tree\n",
        "    right_sum = evaluateExpressionTree(root.right)\n",
        "\n",
        "    # check which operation to apply\n",
        "    if root.val == '+':\n",
        "        return left_sum + right_sum\n",
        "\n",
        "    elif root.val == '-':\n",
        "        return left_sum - right_sum\n",
        "\n",
        "    elif root.val == '*':\n",
        "        return left_sum * right_sum\n",
        "\n",
        "    else:\n",
        "        return left_sum / right_sum"
      ]
    },
    {
      "cell_type": "code",
      "execution_count": null,
      "metadata": {
        "id": "-xWZXA-mAJl0"
      },
      "outputs": [],
      "source": [
        "def inorder(root):\n",
        "\n",
        "    if root:\n",
        "        # Traverse left\n",
        "        inorder(root.left)\n",
        "        # Traverse root\n",
        "        print(str(root.val) + \"->\", end='')\n",
        "        # Traverse right\n",
        "        inorder(root.right)"
      ]
    },
    {
      "cell_type": "markdown",
      "metadata": {
        "id": "CVtqxh5DAJl1"
      },
      "source": [
        "#### 1. Construct a binary expression tree\n",
        "\n",
        "\n",
        "- Use the evaluateExpressionTree method to get the result of the expression\n",
        "- Use the inorder method to traverse the tree  \n",
        "\n",
        "$$ (8 + 4) * (7 - 9) $$"
      ]
    },
    {
      "cell_type": "code",
      "execution_count": 40,
      "metadata": {
        "id": "CxpP0zcVAJl1",
        "colab": {
          "base_uri": "https://localhost:8080/"
        },
        "outputId": "b5b15d6d-b16a-4999-df55-df836b915114"
      },
      "outputs": [
        {
          "output_type": "stream",
          "name": "stdout",
          "text": [
            "8->+->4->*->7->-->9->\n",
            "\n"
          ]
        },
        {
          "output_type": "execute_result",
          "data": {
            "text/plain": [
              "-24"
            ]
          },
          "metadata": {},
          "execution_count": 40
        }
      ],
      "source": [
        "# put your answer here\n",
        "\n",
        "\n",
        "root = Node('*')\n",
        "\n",
        "node1 = Node('+')\n",
        "node2 = Node('-')\n",
        "\n",
        "node3 = Node(8)\n",
        "node4 = Node(4)\n",
        "node5 = Node(7)\n",
        "node6 = Node(9)\n",
        "\n",
        "root.left = node1\n",
        "root.right = node2\n",
        "\n",
        "node1.left = node3\n",
        "node1.right = node4\n",
        "\n",
        "node2.left = node5\n",
        "node2.right = node6\n",
        "\n",
        "inorder(root), print(\"\\n\")\n",
        "\n",
        "evaluateExpressionTree(root)\n"
      ]
    },
    {
      "cell_type": "markdown",
      "metadata": {
        "id": "jc5KHLk6AJl2"
      },
      "source": [
        "#### 2. Construct a binary expression tree\n",
        "\n",
        "- Use the evaluateExpressionTree method to get the result of the expression\n",
        "- Use the inorder method to traverse the tree  \n",
        "\n",
        "$$ 5 / 8 + 3 - 6 * 1 $$"
      ]
    },
    {
      "cell_type": "code",
      "execution_count": 44,
      "metadata": {
        "id": "XORzqkC3AJl2",
        "colab": {
          "base_uri": "https://localhost:8080/"
        },
        "outputId": "f69aca3b-b3de-471f-b77b-e509a155efa7"
      },
      "outputs": [
        {
          "output_type": "execute_result",
          "data": {
            "text/plain": [
              "-2.375"
            ]
          },
          "metadata": {},
          "execution_count": 44
        }
      ],
      "source": [
        "# put your answer here\n",
        "\n",
        "root = Node('-')\n",
        "node1 = Node('+')\n",
        "node2 = Node('/')\n",
        "node3 = Node('*')\n",
        "\n",
        "node4 = Node(5)\n",
        "node5 = Node(8)\n",
        "node6 = Node(3)\n",
        "node7 = Node(6)\n",
        "node8 = Node(1)\n",
        "\n",
        "root.left = node1\n",
        "root.right = node3\n",
        "\n",
        "node3.left = node7\n",
        "node3.right = node8\n",
        "\n",
        "node1.left = node2\n",
        "node1.right = node6\n",
        "\n",
        "node2.left = node4\n",
        "node2.right = node5\n",
        "\n",
        "inorder(root), print(\"\\n\")\n",
        "\n",
        "evaluateExpressionTree(root)\n"
      ]
    },
    {
      "cell_type": "markdown",
      "metadata": {
        "id": "tu3n5ZdWAJl2"
      },
      "source": [
        "#### 3. Construct a binary expression tree\n",
        "\n",
        "- Use the evaluateExpressionTree method to get the result of the expression\n",
        "- Use the inorder method to traverse the tree  \n",
        "\n",
        "$$ ((2 + 5) / 3)- (3 + 8) $$"
      ]
    },
    {
      "cell_type": "code",
      "execution_count": 49,
      "metadata": {
        "id": "5GvZBxgtAJl3",
        "colab": {
          "base_uri": "https://localhost:8080/"
        },
        "outputId": "d46e5d7e-e00e-4900-a09b-101afd3e836f"
      },
      "outputs": [
        {
          "output_type": "stream",
          "name": "stdout",
          "text": [
            "2->+->5->/->3->-->3->+->8->\n",
            "\n"
          ]
        },
        {
          "output_type": "execute_result",
          "data": {
            "text/plain": [
              "-8.666666666666666"
            ]
          },
          "metadata": {},
          "execution_count": 49
        }
      ],
      "source": [
        "# put your answer here\n",
        "\n",
        "root = Node('-')\n",
        "node1 = Node('+')\n",
        "node1_2 = Node('+')\n",
        "node2 = Node('/')\n",
        "\n",
        "node3 = Node(2)\n",
        "node4 = Node(5)\n",
        "node5 = Node(3)\n",
        "node6 = Node(3)\n",
        "node7 = Node(8)\n",
        "\n",
        "root.left = node2\n",
        "root.right = node1\n",
        "\n",
        "node1.left = node6\n",
        "node1.right = node7\n",
        "\n",
        "node2.left = node1_2\n",
        "node2.right = node5\n",
        "\n",
        "node1_2.left = node3\n",
        "node1_2.right = node4\n",
        "\n",
        "inorder(root), print(\"\\n\")\n",
        "\n",
        "evaluateExpressionTree(root)\n",
        "\n",
        "\n",
        "\n"
      ]
    }
  ],
  "metadata": {
    "kernelspec": {
      "display_name": "Python 3",
      "language": "python",
      "name": "python3"
    },
    "language_info": {
      "codemirror_mode": {
        "name": "ipython",
        "version": 3
      },
      "file_extension": ".py",
      "mimetype": "text/x-python",
      "name": "python",
      "nbconvert_exporter": "python",
      "pygments_lexer": "ipython3",
      "version": "3.11.4"
    },
    "orig_nbformat": 4,
    "colab": {
      "provenance": [],
      "include_colab_link": true
    }
  },
  "nbformat": 4,
  "nbformat_minor": 0
}