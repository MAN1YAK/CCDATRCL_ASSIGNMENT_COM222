{
  "cells": [
    {
      "cell_type": "markdown",
      "metadata": {
        "id": "view-in-github",
        "colab_type": "text"
      },
      "source": [
        "<a href=\"https://colab.research.google.com/github/MAN1YAK/CCDATRCL_ASSIGNMENT_COM222/blob/main/exercise5.ipynb\" target=\"_parent\"><img src=\"https://colab.research.google.com/assets/colab-badge.svg\" alt=\"Open In Colab\"/></a>"
      ]
    },
    {
      "cell_type": "markdown",
      "metadata": {
        "id": "8mYpXhH_CpW-"
      },
      "source": [
        "# Exercise 5"
      ]
    },
    {
      "cell_type": "markdown",
      "metadata": {
        "id": "1CJCZAyICpXG"
      },
      "source": [
        "#### 1. Create a dictionary of your 10 favorite songs."
      ]
    },
    {
      "cell_type": "markdown",
      "metadata": {
        "id": "10XfpvdECpXG"
      },
      "source": [
        "Example:\n",
        "\n",
        "|KEY|VALUE|\n",
        "|---|---|\n",
        "|001|My Love|\n",
        "|002|Like a rose|"
      ]
    },
    {
      "cell_type": "code",
      "execution_count": 13,
      "metadata": {
        "id": "K3XLhW_7CpXH"
      },
      "outputs": [],
      "source": [
        "# put your answer here\n",
        "mydictionry = dict(id001 = \"Let it go\", id002 = \"Do you want to build a snowman?\", id003 = \"Rainbow Goblin\", id004 = \"Jody\", id005 = \"Girls on the beach\", id006 = \"Binibirocha\", id007 = \"Banyo Queen\", id008 = \"Something Studpid\", id009 = \"As the world caves in\", id010 = \"Monay\")"
      ]
    },
    {
      "cell_type": "markdown",
      "metadata": {
        "id": "aFhD79CfCpXJ"
      },
      "source": [
        "#### 2. Loop through the dictionary by its **key** and **value**"
      ]
    },
    {
      "cell_type": "code",
      "execution_count": 14,
      "metadata": {
        "id": "Ca4nX7NuCpXJ",
        "colab": {
          "base_uri": "https://localhost:8080/"
        },
        "outputId": "752e6008-5d45-411f-a730-607e49603c7b"
      },
      "outputs": [
        {
          "output_type": "stream",
          "name": "stdout",
          "text": [
            "id001 Let it go\n",
            "id002 Do you want to build a snowman?\n",
            "id003 Rainbow Goblin\n",
            "id004 Jody\n",
            "id005 Girls on the beach\n",
            "id006 Binibirocha\n",
            "id007 Banyo Queen\n",
            "id008 Something Studpid\n",
            "id009 As the world caves in\n",
            "id010 Monay\n"
          ]
        }
      ],
      "source": [
        "# put your answer here\n",
        "for x,y in mydictionry.items():\n",
        "  print(x,y)\n"
      ]
    },
    {
      "cell_type": "markdown",
      "metadata": {
        "id": "ezAmW-38CpXK"
      },
      "source": [
        "#### 3. Add one additional song"
      ]
    },
    {
      "cell_type": "code",
      "execution_count": 15,
      "metadata": {
        "id": "_YPxi9jcCpXK"
      },
      "outputs": [],
      "source": [
        "# put your answer here\n",
        "mydictionry[\"id011\"] = \"ChuwawaBullDoggie\""
      ]
    },
    {
      "cell_type": "markdown",
      "metadata": {
        "id": "VZCnKx8iCpXK"
      },
      "source": [
        "#### 4. Remove one song"
      ]
    },
    {
      "cell_type": "code",
      "execution_count": 16,
      "metadata": {
        "id": "b3uUkYeCCpXL",
        "colab": {
          "base_uri": "https://localhost:8080/",
          "height": 35
        },
        "outputId": "dc0a4cc4-07fa-4fe9-f987-7579a933baa4"
      },
      "outputs": [
        {
          "output_type": "execute_result",
          "data": {
            "text/plain": [
              "'Let it go'"
            ],
            "application/vnd.google.colaboratory.intrinsic+json": {
              "type": "string"
            }
          },
          "metadata": {},
          "execution_count": 16
        }
      ],
      "source": [
        "# put your answer here\n",
        "mydictionry.pop(\"id001\")"
      ]
    },
    {
      "cell_type": "markdown",
      "metadata": {
        "id": "Ov2wnGpvCpXL"
      },
      "source": [
        "#### 5. Create a nested dictionary of your 10 favorite songs with 5 genres. Display all of the items of the nested dictionary\n",
        "\n",
        "- Each nested dictionary's key should be the genre of the song\n",
        "- Put each song in their respective genre"
      ]
    },
    {
      "cell_type": "markdown",
      "metadata": {
        "id": "fvP92WFJCpXL"
      },
      "source": [
        "Example:\n",
        "\n",
        "\n",
        "|KEY|VALUE|\n",
        "|---|---|\n",
        "|Pop|{001, Baby}|\n",
        "|Rock|{001, Enter Sandman}|"
      ]
    },
    {
      "cell_type": "code",
      "execution_count": 17,
      "metadata": {
        "id": "CrqS4JliCpXM"
      },
      "outputs": [],
      "source": [
        "# put your answer here\n",
        "MyDictionary = {\n",
        "    \"Rock\": {\n",
        "        \"001\" : \"Livin on a prayer\",\n",
        "        \"002\" : \"Spongebob TrianglePants\"\n",
        "    },\n",
        "    \"Blues\": {\n",
        "        \"001\" : \"I'm blue dabadibadiba dabadiba\",\n",
        "        \"002\" : \"Mr. Blue Sky\"\n",
        "    },\n",
        "    \"OPM\": {\n",
        "        \"001\" : \"One punch man op 1\",\n",
        "        \"002\" : \"One punch man op 2\"\n",
        "    },\n",
        "    \"Spirit\": {\n",
        "        \"001\" : \"SPIRIT GUN!!!\",\n",
        "        \"002\" : \"SPIRIT BOMB!!!\"\n",
        "    },\n",
        "    \"Techno\" : {\n",
        "        \"001\" : \"I am Iron Man\",\n",
        "        \"002\" : \"Iron Giant\"\n",
        "    }\n",
        "}"
      ]
    },
    {
      "cell_type": "markdown",
      "metadata": {
        "id": "hiKE3yeVCpXM"
      },
      "source": [
        "#### 6. Print the first song of the first genre"
      ]
    },
    {
      "cell_type": "code",
      "execution_count": 18,
      "metadata": {
        "id": "JssqIHMECpXM",
        "colab": {
          "base_uri": "https://localhost:8080/"
        },
        "outputId": "3356a948-d02e-4e21-f37f-3643beb6b72c"
      },
      "outputs": [
        {
          "output_type": "stream",
          "name": "stdout",
          "text": [
            "Livin on a prayer\n"
          ]
        }
      ],
      "source": [
        "# put your answer here\n",
        "print(MyDictionary[\"Rock\"][\"001\"])"
      ]
    },
    {
      "cell_type": "markdown",
      "metadata": {
        "id": "vbbCEoEzCpXN"
      },
      "source": [
        "#### 7. Print the first song of the last genre"
      ]
    },
    {
      "cell_type": "code",
      "execution_count": 19,
      "metadata": {
        "id": "TpBNwITuCpXN",
        "colab": {
          "base_uri": "https://localhost:8080/"
        },
        "outputId": "39e421b1-4a69-494d-8a96-cefa76188bd3"
      },
      "outputs": [
        {
          "output_type": "stream",
          "name": "stdout",
          "text": [
            "I am Iron Man\n"
          ]
        }
      ],
      "source": [
        "# put your answer here\n",
        "print(MyDictionary[\"Techno\"][\"001\"])"
      ]
    }
  ],
  "metadata": {
    "kernelspec": {
      "display_name": "Python 3",
      "language": "python",
      "name": "python3"
    },
    "language_info": {
      "codemirror_mode": {
        "name": "ipython",
        "version": 3
      },
      "file_extension": ".py",
      "mimetype": "text/x-python",
      "name": "python",
      "nbconvert_exporter": "python",
      "pygments_lexer": "ipython3",
      "version": "3.11.4"
    },
    "orig_nbformat": 4,
    "colab": {
      "provenance": [],
      "include_colab_link": true
    }
  },
  "nbformat": 4,
  "nbformat_minor": 0
}