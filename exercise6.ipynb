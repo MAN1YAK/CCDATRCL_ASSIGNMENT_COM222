{
  "cells": [
    {
      "cell_type": "markdown",
      "metadata": {
        "id": "view-in-github",
        "colab_type": "text"
      },
      "source": [
        "<a href=\"https://colab.research.google.com/github/MAN1YAK/CCDATRCL_ASSIGNMENT_COM222/blob/main/exercise6.ipynb\" target=\"_parent\"><img src=\"https://colab.research.google.com/assets/colab-badge.svg\" alt=\"Open In Colab\"/></a>"
      ]
    },
    {
      "cell_type": "markdown",
      "metadata": {
        "id": "sStluSHWXO1Z"
      },
      "source": [
        "# Exercise 6"
      ]
    },
    {
      "cell_type": "markdown",
      "metadata": {
        "id": "fSFt8oBZXO1d"
      },
      "source": [
        "#### Pre-defined code"
      ]
    },
    {
      "cell_type": "code",
      "execution_count": 24,
      "metadata": {
        "id": "WRAouNRaXO1e"
      },
      "outputs": [],
      "source": [
        "class Node:\n",
        "    def __init__(self, item):\n",
        "        self.left = None\n",
        "        self.right = None\n",
        "        self.val = item"
      ]
    },
    {
      "cell_type": "code",
      "execution_count": 25,
      "metadata": {
        "id": "Cej6BKF3XO1f"
      },
      "outputs": [],
      "source": [
        "def inorder(root):\n",
        "\n",
        "    if root:\n",
        "        # Traverse left\n",
        "        inorder(root.left)\n",
        "        # Traverse root\n",
        "        print(str(root.val) + \"->\", end='')\n",
        "        # Traverse right\n",
        "        inorder(root.right)\n",
        "\n",
        "def postorder(root):\n",
        "\n",
        "    if root:\n",
        "        # Traverse left\n",
        "        postorder(root.left)\n",
        "        # Traverse right\n",
        "        postorder(root.right)\n",
        "        # Traverse root\n",
        "        print(str(root.val) + \"->\", end='')\n",
        "\n",
        "def preorder(root):\n",
        "\n",
        "    if root:\n",
        "        # Traverse root\n",
        "        print(str(root.val) + \"->\", end='')\n",
        "        # Traverse left\n",
        "        preorder(root.left)\n",
        "        # Traverse right\n",
        "        preorder(root.right)"
      ]
    },
    {
      "cell_type": "markdown",
      "metadata": {
        "id": "5a__Eem7XO1g"
      },
      "source": [
        "#### 1. Construct Create your own company org chart and put yourself as CEO.\n",
        "\n",
        "Using a Tree data structure,\n",
        "\n",
        "- Assign yourself as CEO\n",
        "\n",
        "- Assign any of your classmate as HR Director\n",
        "- Assign any of your classmate as Sales Director\n",
        "\n",
        "- Assign any of your classmate as trainee. His/her boss is the HR Director\n",
        "- Assign any of your classmate as a staff and trainee. Their boss is the Sales Director\n"
      ]
    },
    {
      "cell_type": "markdown",
      "metadata": {
        "id": "X-lgTLVLXO1g"
      },
      "source": [
        "<img src=\"https://thumbs.dreamstime.com/z/cartoon-organization-chart-some-company-93778925.jpg\"/>"
      ]
    },
    {
      "cell_type": "code",
      "execution_count": 26,
      "metadata": {
        "id": "A7xjbeaPXO1h"
      },
      "outputs": [],
      "source": [
        "# put your answer here\n",
        "\n",
        "CEO = Node(\"Angelo Munoz\")\n",
        "HRDIRECTOR = Node(\"Ganyu\")\n",
        "SALESDIRECTOR = Node(\"Kobe Mendoza\")\n",
        "STAFF = Node(\"Krissy Lynn\")\n",
        "TRAINEE1 = Node(\"Roan Baluyut\")\n",
        "TRAINEE2 = Node(\"EnaFox\")\n",
        "\n",
        "root = CEO\n",
        "\n",
        "root.left = HRDIRECTOR\n",
        "root.right = SALESDIRECTOR\n",
        "\n",
        "HRDIRECTOR.left = TRAINEE1\n",
        "\n",
        "SALESDIRECTOR.left = STAFF\n",
        "SALESDIRECTOR.right = TRAINEE2"
      ]
    },
    {
      "cell_type": "markdown",
      "metadata": {
        "id": "NwdpzeOZXO1h"
      },
      "source": [
        "#### 2. Traverse the tree in in-order traversal"
      ]
    },
    {
      "cell_type": "code",
      "execution_count": 27,
      "metadata": {
        "id": "6iy6ELmyXO1h",
        "colab": {
          "base_uri": "https://localhost:8080/"
        },
        "outputId": "ef50de7f-3a57-4d65-a724-cc4cf396aa6f"
      },
      "outputs": [
        {
          "output_type": "stream",
          "name": "stdout",
          "text": [
            "Roan Baluyut->Ganyu->Angelo Munoz->Krissy Lynn->Kobe Mendoza->EnaFox->"
          ]
        }
      ],
      "source": [
        "# put your answer here\n",
        "inorder(root)"
      ]
    },
    {
      "cell_type": "markdown",
      "metadata": {
        "id": "k4hXS7LcXO1i"
      },
      "source": [
        "#### 3. Traverse the tree in pre-order traversal"
      ]
    },
    {
      "cell_type": "code",
      "execution_count": 28,
      "metadata": {
        "id": "bzd_fUxZXO1i",
        "colab": {
          "base_uri": "https://localhost:8080/"
        },
        "outputId": "f4ed6416-3def-4f75-babe-8f5cbe585e71"
      },
      "outputs": [
        {
          "output_type": "stream",
          "name": "stdout",
          "text": [
            "Roan Baluyut->Ganyu->Krissy Lynn->EnaFox->Kobe Mendoza->Angelo Munoz->"
          ]
        }
      ],
      "source": [
        "# put your answer here\n",
        "postorder(root)"
      ]
    },
    {
      "cell_type": "markdown",
      "metadata": {
        "id": "FlR2v-hlXO1i"
      },
      "source": [
        "#### 4. Traverse the tree in post-order traversal"
      ]
    },
    {
      "cell_type": "code",
      "execution_count": 29,
      "metadata": {
        "id": "XurmQa8DXO1j",
        "colab": {
          "base_uri": "https://localhost:8080/"
        },
        "outputId": "0361144b-996e-4837-f7f3-8c40ffd033ea"
      },
      "outputs": [
        {
          "output_type": "stream",
          "name": "stdout",
          "text": [
            "Angelo Munoz->Ganyu->Roan Baluyut->Kobe Mendoza->Krissy Lynn->EnaFox->"
          ]
        }
      ],
      "source": [
        "# put your answer here\n",
        "preorder(root)"
      ]
    }
  ],
  "metadata": {
    "kernelspec": {
      "display_name": "Python 3",
      "language": "python",
      "name": "python3"
    },
    "language_info": {
      "codemirror_mode": {
        "name": "ipython",
        "version": 3
      },
      "file_extension": ".py",
      "mimetype": "text/x-python",
      "name": "python",
      "nbconvert_exporter": "python",
      "pygments_lexer": "ipython3",
      "version": "3.11.4"
    },
    "orig_nbformat": 4,
    "colab": {
      "provenance": [],
      "include_colab_link": true
    }
  },
  "nbformat": 4,
  "nbformat_minor": 0
}